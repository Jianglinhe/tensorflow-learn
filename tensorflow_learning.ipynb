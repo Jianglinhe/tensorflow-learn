{
 "cells": [
  {
   "cell_type": "code",
   "execution_count": 11,
   "metadata": {},
   "outputs": [],
   "source": [
    "import tensorflow as tf"
   ]
  },
  {
   "cell_type": "code",
   "execution_count": 12,
   "metadata": {},
   "outputs": [
    {
     "name": "stdout",
     "output_type": "stream",
     "text": [
      "Tensor(\"Add_9:0\", shape=(), dtype=int32)\n"
     ]
    }
   ],
   "source": [
    "t = tf.add(8,9)\n",
    "print(t)"
   ]
  },
  {
   "cell_type": "markdown",
   "metadata": {},
   "source": [
    "定义一个操作，但实际上并没有执行。tensorflow中的运算都要放在图中，而图的运算只能发生在会话中。开启会话后就可以用数据去填充节点，进行运算；关闭会话就不能进行计算了。"
   ]
  },
  {
   "cell_type": "code",
   "execution_count": 14,
   "metadata": {},
   "outputs": [
    {
     "name": "stdout",
     "output_type": "stream",
     "text": [
      "[ 3.  8.]\n"
     ]
    }
   ],
   "source": [
    "# 创建图\n",
    "a = tf.constant([1.0,2.0])\n",
    "b = tf.constant([3.0,4.0])\n",
    "c = a*b\n",
    "# 创建会话\n",
    "sess = tf.Session()\n",
    "c1 = sess.run(c)\n",
    "print(c1)\n",
    "sess.close()"
   ]
  },
  {
   "cell_type": "markdown",
   "metadata": {},
   "source": [
    "tensorflow使用数据流图（网络结构图）做计算的"
   ]
  },
  {
   "cell_type": "markdown",
   "metadata": {},
   "source": [
    "# 1、构建一张图（即创建各个节点）"
   ]
  },
  {
   "cell_type": "code",
   "execution_count": 17,
   "metadata": {},
   "outputs": [],
   "source": [
    "# 创建1*2的矩阵(常量运算操作)\n",
    "matrix1 = tf.constant([[3.,3.]])\n",
    "\n",
    "# 创建一个2*1的矩阵\n",
    "matrix2 = tf.constant([[2.],[2.]])\n",
    "\n",
    "# 创建一个矩阵乘法运算，把matrix1和matrix2作为输入\n",
    "# 返回值product代表矩阵乘法的结果\n",
    "product = tf.matmul(matrix1,matrix2)"
   ]
  },
  {
   "cell_type": "markdown",
   "metadata": {},
   "source": [
    "# 2、会话"
   ]
  },
  {
   "cell_type": "code",
   "execution_count": 20,
   "metadata": {},
   "outputs": [
    {
     "name": "stdout",
     "output_type": "stream",
     "text": [
      "[[ 12.]]\n"
     ]
    }
   ],
   "source": [
    "with tf.Session() as sess:\n",
    "    result = sess.run(product)\n",
    "    print(result)"
   ]
  },
  {
   "cell_type": "markdown",
   "metadata": {},
   "source": [
    "一般的模式是，建立会话，此时生成一张图，在会话中添加节点和边，形成一张图，然后执行。\n",
    "在调用Session对象的run()方法执行图时，传入一些Tensor，这个过程叫填充（feed），返回的结果内省根据输入的类型来定，这个过程叫取回（fetch）"
   ]
  },
  {
   "cell_type": "markdown",
   "metadata": {},
   "source": [
    "# 3、设备（device）"
   ]
  },
  {
   "cell_type": "markdown",
   "metadata": {},
   "source": [
    "指一块可以用来运算并且拥有自己的地址空间的硬件，如GPU和CPU,tensorflow为了实现分布式执行操作，充分利用计算资源，可以明确指定操作在哪个设备上执行。具体如下："
   ]
  },
  {
   "cell_type": "code",
   "execution_count": null,
   "metadata": {},
   "outputs": [],
   "source": [
    "with tf.Session()as tf:\n",
    "    # 指定在第二个gpu上运行\n",
    "    with tf.device(\"/gpu:1\"):\n",
    "        matrix1 = tf.constant([[3.,3.]])\n",
    "        matrix2 = tf.constant([[2.],[2.]])\n",
    "        product = tf.matmul(matrix1,matrix2)"
   ]
  },
  {
   "cell_type": "markdown",
   "metadata": {},
   "source": [
    "# 4、变量"
   ]
  },
  {
   "cell_type": "markdown",
   "metadata": {},
   "source": [
    "变量（variable）是一种特殊的数据，它在图中有固定的位置，不像张量那样可以流动，使用tf.Variable()构造函数，函数需要初始值，初始值的形状和类型决定了这个变量的形状和类型。"
   ]
  },
  {
   "cell_type": "code",
   "execution_count": null,
   "metadata": {},
   "outputs": [],
   "source": [
    "# 创建一个变量，初始化为标量0\n",
    "state = tf.Variable(0,name=\"counter\")\n",
    "# 创建一个常量张量\n",
    "input1 = tf.constant(3.0)"
   ]
  },
  {
   "cell_type": "markdown",
   "metadata": {},
   "source": [
    "tensorflow还提供填充机制，可以在构建图时使用tf.placeholder()临时代替任意操作的张量，在调用Session对象的run（）方法执行图时，使用填充数据作为调用的参数，调用结束后填充数据就消失。tf.multiply()是数学运算操作"
   ]
  },
  {
   "cell_type": "code",
   "execution_count": 21,
   "metadata": {},
   "outputs": [
    {
     "name": "stdout",
     "output_type": "stream",
     "text": [
      "[ 14.]\n"
     ]
    }
   ],
   "source": [
    "input1 = tf.placeholder(tf.float32)\n",
    "input2 = tf.placeholder(tf.float32)\n",
    "output = tf.multiply(input1,input2)\n",
    "with tf.Session() as sess:\n",
    "    print(sess.run(output,feed_dict={input1:[7.0],input2:[2.0]}))"
   ]
  }
 ],
 "metadata": {
  "kernelspec": {
   "display_name": "Python 3",
   "language": "python",
   "name": "python3"
  },
  "language_info": {
   "codemirror_mode": {
    "name": "ipython",
    "version": 3
   },
   "file_extension": ".py",
   "mimetype": "text/x-python",
   "name": "python",
   "nbconvert_exporter": "python",
   "pygments_lexer": "ipython3",
   "version": "3.5.4"
  }
 },
 "nbformat": 4,
 "nbformat_minor": 2
}
