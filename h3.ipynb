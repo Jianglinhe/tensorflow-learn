{
 "cells": [
  {
   "cell_type": "code",
   "execution_count": 1,
   "metadata": {},
   "outputs": [],
   "source": [
    "import tensorflow as tf\n",
    "import matplotlib.pyplot as plt\n",
    "import numpy as np"
   ]
  },
  {
   "cell_type": "markdown",
   "metadata": {},
   "source": [
    "# 神经元函数及优化方法"
   ]
  },
  {
   "cell_type": "markdown",
   "metadata": {},
   "source": [
    "## 激活函数"
   ]
  },
  {
   "cell_type": "markdown",
   "metadata": {},
   "source": [
    "    tf.nn.relu()\n",
    "    tf.nn.sigmoid()\n",
    "    tf.nn.tanh()\n",
    "    tf.nn.elu()\n",
    "    tf.nn.bias_add()\n",
    "    tf.nn.crelu()\n",
    "    tf.nn.relu6()\n",
    "    tf.nn.softsign()\n",
    "    tf.nn.softplus()\n",
    "    tf.nn.dropout() # 防止过拟合，用来舍弃某些神经元"
   ]
  },
  {
   "cell_type": "code",
   "execution_count": 2,
   "metadata": {},
   "outputs": [],
   "source": [
    "x = np.linspace(-10,10,1000)"
   ]
  },
  {
   "cell_type": "code",
   "execution_count": 3,
   "metadata": {},
   "outputs": [
    {
     "name": "stdout",
     "output_type": "stream",
     "text": [
      "[[0.7310586 0.880797 ]\n",
      " [0.7310586 0.880797 ]]\n"
     ]
    }
   ],
   "source": [
    "# sigmoid函数\n",
    "a = tf.constant([[1.0,2.0],[1.0,2.0]])\n",
    "with tf.Session() as sess:\n",
    "    with tf.device(\"/gpu:0\"):\n",
    "        print(sess.run(tf.nn.sigmoid(a)))"
   ]
  },
  {
   "cell_type": "code",
   "execution_count": 4,
   "metadata": {},
   "outputs": [
    {
     "data": {
      "text/plain": [
       "[<matplotlib.lines.Line2D at 0x1c6870518d0>]"
      ]
     },
     "execution_count": 4,
     "metadata": {},
     "output_type": "execute_result"
    },
    {
     "data": {
      "image/png": "[encoded data removed]",
      "text/plain": [
       "<Figure size 432x288 with 1 Axes>"
      ]
     },
     "metadata": {},
     "output_type": "display_data"
    }
   ],
   "source": [
    "# sigmoid函数图像如下\n",
    "y = tf.nn.sigmoid(x)\n",
    "with tf.Session() as sess:\n",
    "    y = sess.run(y)\n",
    "plt.plot(x,y)"
   ]
  },
  {
   "cell_type": "code",
   "execution_count": 5,
   "metadata": {},
   "outputs": [
    {
     "data": {
      "text/plain": [
       "[<matplotlib.lines.Line2D at 0x1c6874089b0>]"
      ]
     },
     "execution_count": 5,
     "metadata": {},
     "output_type": "execute_result"
    },
    {
     "data": {
      "image/png": "[encoded data removed]",
      "text/plain": [
       "<Figure size 432x288 with 1 Axes>"
      ]
     },
     "metadata": {},
     "output_type": "display_data"
    }
   ],
   "source": [
    "# tanh函数图像如下\n",
    "y = tf.nn.tanh(x)\n",
    "with tf.Session() as sess:\n",
    "    y = sess.run(y)\n",
    "plt.plot(x,y)"
   ]
  },
  {
   "cell_type": "code",
   "execution_count": 6,
   "metadata": {},
   "outputs": [
    {
     "data": {
      "text/plain": [
       "[<matplotlib.lines.Line2D at 0x1c687719278>]"
      ]
     },
     "execution_count": 6,
     "metadata": {},
     "output_type": "execute_result"
    },
    {
     "data": {
      "image/png": "[encoded data removed]",
      "text/plain": [
       "<Figure size 432x288 with 1 Axes>"
      ]
     },
     "metadata": {},
     "output_type": "display_data"
    }
   ],
   "source": [
    "# relu函数图像如下\n",
    "y = tf.nn.relu(x)\n",
    "with tf.Session() as sess:\n",
    "    y = sess.run(y)\n",
    "plt.plot(x,y)"
   ]
  },
  {
   "cell_type": "code",
   "execution_count": 16,
   "metadata": {},
   "outputs": [
    {
     "name": "stdout",
     "output_type": "stream",
     "text": [
      "[[-0.  4.  6.  0.]]\n",
      "[[-0.  0.  0.  0.]]\n"
     ]
    }
   ],
   "source": [
    "# drop函数\n",
    "a = tf.constant([[-1.0,2.0,3.0,4.0]])\n",
    "with tf.Session() as sess:\n",
    "    print(sess.run(tf.nn.dropout(a,0.5,noise_shape=[1,4]))) # 每个元素是否被抑制是相互独立的,相当于默认的None\n",
    "    print(sess.run(tf.nn.dropout(a,0.5,noise_shape=[1,1]))) # 元素是否被抑制是相关联的，同时被抑制或不抑制"
   ]
  },
  {
   "cell_type": "markdown",
   "metadata": {},
   "source": [
    "## 卷积函数"
   ]
  },
  {
   "cell_type": "markdown",
   "metadata": {},
   "source": [
    "    tf.nn.convolution(input, filter, padding, strides=None, dilation_rate=None, name=None, data_format=None)\n",
    "    tf.nn.conv2d(input, filter, strides, padding, use_cudnn_on_gpu=True, data_format='NHWC', dilations=[1, 1, 1, 1], name=None)\n",
    "    tf.nn.depthwise_conv2d(input, filter, strides, padding, rate=None, name=None, data_format=None)\n",
    "    tf.nn.conv2d_transpose(value, filter, output_shape, strides, padding='SAME', data_format='NHWC', name=None)# 反卷积"
   ]
  },
  {
   "cell_type": "code",
   "execution_count": 19,
   "metadata": {},
   "outputs": [
    {
     "name": "stdout",
     "output_type": "stream",
     "text": [
      "(10, 9, 9, 2)\n"
     ]
    }
   ],
   "source": [
    "# 卷积\n",
    "input_data = tf.Variable(np.random.rand(10,9,9,3),dtype=np.float32)\n",
    "filter_data = tf.Variable(np.random.rand(2,2,3,2),dtype=np.float32)\n",
    "y = tf.nn.conv2d(input=input_data, filter=filter_data, strides=[1,1,1,1], padding='SAME')\n",
    "print(y.shape)"
   ]
  },
  {
   "cell_type": "code",
   "execution_count": 23,
   "metadata": {},
   "outputs": [
    {
     "name": "stdout",
     "output_type": "stream",
     "text": [
      "(1, 5, 5, 3)\n"
     ]
    }
   ],
   "source": [
    "# 反卷积\n",
    "x = tf.random_normal(shape=[1,3,3,1])\n",
    "kernel = tf.random_normal(shape=[2,2,3,1])\n",
    "y = tf.nn.conv2d_transpose(x,kernel,output_shape=[1,5,5,3],strides=[1,2,2,1],padding='SAME')\n",
    "print(y.shape)"
   ]
  },
  {
   "cell_type": "markdown",
   "metadata": {},
   "source": [
    "## 池化函数"
   ]
  },
  {
   "cell_type": "markdown",
   "metadata": {},
   "source": [
    "    tf.nn.avg_pool(value, ksize, strides, padding, data_format='NHWC', name=None)\n",
    "    tf.nn.max_pool(value, ksize, strides, padding, data_format='NHWC', name=None)"
   ]
  },
  {
   "cell_type": "markdown",
   "metadata": {},
   "source": [
    "## 分类函数"
   ]
  },
  {
   "cell_type": "markdown",
   "metadata": {},
   "source": [
    "    tf.nn.sigmoid_cross_entropy_with_logits()\n",
    "    tf.nn.softmax(logits, axis=None, name=None, dim=None)\n",
    "    tf.nn.log_softmax()\n",
    "    tf.nn.softmax_cross_entropy_with_logits()\n",
    "    tf.nn.sparse_softmax_cross_entropy_with_logits()"
   ]
  },
  {
   "cell_type": "markdown",
   "metadata": {},
   "source": [
    "## 优化方法"
   ]
  },
  {
   "cell_type": "markdown",
   "metadata": {},
   "source": [
    "    tf.train.GradientDescentOptimizer()\n",
    "    tf.train.AdadeltaOptimizer()\n",
    "    tf.train.AdagradDAOptimizer()\n",
    "    tf.train.MomentumOptimizer()\n",
    "    tf.train.FtrlOptimizer()\n",
    "    tf.train.RMSPropOptimizer()\n",
    "    8个优化器对应8种优化方法，分别是梯度下降法（BGD,SDG）、Adadelta法、Adagrad法（Adagrad，AdagradDAO）、Momentum法（Momentum、Nesterov Momentum）、Adam、Ftrl和RMSProp法\n",
    "    其中，BGD、SGD、Momentum和Nesterov Momentum是手动指定学习率的，其余算法能够自动调节学习率"
   ]
  },
  {
   "cell_type": "code",
   "execution_count": null,
   "metadata": {},
   "outputs": [],
   "source": []
  }
 ],
 "metadata": {
  "kernelspec": {
   "display_name": "Python 3",
   "language": "python",
   "name": "python3"
  },
  "language_info": {
   "codemirror_mode": {
    "name": "ipython",
    "version": 3
   },
   "file_extension": ".py",
   "mimetype": "text/x-python",
   "name": "python",
   "nbconvert_exporter": "python",
   "pygments_lexer": "ipython3",
   "version": "3.5.5"
  },
  "toc": {
   "base_numbering": 1,
   "nav_menu": {},
   "number_sections": true,
   "sideBar": true,
   "skip_h1_title": false,
   "title_cell": "Table of Contents",
   "title_sidebar": "Contents",
   "toc_cell": false,
   "toc_position": {
    "height": "calc(100% - 180px)",
    "left": "10px",
    "top": "150px",
    "width": "273.188px"
   },
   "toc_section_display": true,
   "toc_window_display": true
  }
 },
 "nbformat": 4,
 "nbformat_minor": 2
}
