{
 "cells": [
  {
   "cell_type": "markdown",
   "metadata": {},
   "source": [
    "### TensorFlow的运行方式分如下4步\n",
    "    1.加载数据及定义超参数\n",
    "    2.构建网络\n",
    "    3.训练模型\n",
    "    4.评估模型和进行预测"
   ]
  },
  {
   "cell_type": "markdown",
   "metadata": {},
   "source": [
    "构建一个简单的一元二次函数"
   ]
  },
  {
   "cell_type": "code",
   "execution_count": 1,
   "metadata": {},
   "outputs": [],
   "source": [
    "import tensorflow as tf\n",
    "import numpy as np"
   ]
  },
  {
   "cell_type": "code",
   "execution_count": 2,
   "metadata": {},
   "outputs": [],
   "source": [
    "# 构造满足一元二次方程的函数([-1,1]上的等差数列)，转化为300*1的二维数组\n",
    "x_data = np.linspace(-1,1,300)[:,np.newaxis]"
   ]
  },
  {
   "cell_type": "code",
   "execution_count": 3,
   "metadata": {},
   "outputs": [],
   "source": [
    "noise = np.random.normal(0,0.05,x_data.shape) # 加入噪声，均值为0，方差为0.05的正态分布,维度和x_data相同"
   ]
  },
  {
   "cell_type": "code",
   "execution_count": 4,
   "metadata": {},
   "outputs": [],
   "source": [
    "y_data = np.square(x_data) -0.5 + noise # y = x^2 - 0.5 + 噪声"
   ]
  },
  {
   "cell_type": "code",
   "execution_count": 5,
   "metadata": {},
   "outputs": [],
   "source": [
    "# 定义x和y的占位符来作为输入神经网络的变量(shape=[None,1])\n",
    "xs = tf.placeholder(tf.float32,[None,1])\n",
    "ys = tf.placeholder(tf.float32,[None,1])"
   ]
  },
  {
   "cell_type": "markdown",
   "metadata": {},
   "source": [
    "#### 构建网络\n",
    "    需要构建一个隐藏层和一个输出层，作为神经网络的层，输入参数有4个\n",
    "        1.输入数据\n",
    "        2.输入数据的维度\n",
    "        3.输出数据的维度\n",
    "        4.激活函数\n",
    "        每一层经过 y = weight * x + biases 处理，并经过激活函数的非线性化处理后得到输出数据"
   ]
  },
  {
   "cell_type": "code",
   "execution_count": 6,
   "metadata": {},
   "outputs": [],
   "source": [
    "def add_layer(inputs, in_size, out_size, activation_function=None):\n",
    "    # 构建权重矩阵：in_size * out_size大小矩阵（服从正态分布）\n",
    "    weights = tf.Variable(tf.random_normal([in_size,out_size]))\n",
    "    # 构建偏置项：1 * out_size的矩阵\n",
    "    biases = tf.Variable(tf.zeros([1, out_size])+0.1)\n",
    "    # 矩阵相乘\n",
    "    Wx_plus_b = tf.matmul(inputs, weights) + biases\n",
    "    if activation_function is None:\n",
    "        outputs = Wx_plus_b\n",
    "    else:\n",
    "        outputs = activation_function(Wx_plus_b)\n",
    "    return outputs"
   ]
  },
  {
   "cell_type": "code",
   "execution_count": 7,
   "metadata": {},
   "outputs": [],
   "source": [
    "# 构建隐藏层，假设隐藏层有10个神经元\n",
    "h1 = add_layer(xs,1,10,activation_function=tf.nn.relu)\n",
    "# 构建输出层，假设输出层和输入层一样，有一个神经元\n",
    "prediction = add_layer(h1,10,1,activation_function=None)"
   ]
  },
  {
   "cell_type": "code",
   "execution_count": 8,
   "metadata": {},
   "outputs": [],
   "source": [
    "# 构建损失函数：计算预测值和真实值之间的误差，对二者的平方和取平均，使用梯度下降法来迭代参数\n",
    "loss = tf.reduce_mean(tf.reduce_sum(tf.square(ys-prediction)))\n",
    "train_step = tf.train.GradientDescentOptimizer(0.001).minimize(loss)"
   ]
  },
  {
   "cell_type": "markdown",
   "metadata": {},
   "source": [
    "#### 训练模型"
   ]
  },
  {
   "cell_type": "code",
   "execution_count": 13,
   "metadata": {},
   "outputs": [
    {
     "name": "stdout",
     "output_type": "stream",
     "text": [
      "444.49225\n",
      "2.0509992\n",
      "1.6074595\n",
      "1.3268313\n",
      "1.1895854\n",
      "1.1185589\n",
      "1.0710914\n",
      "1.0338535\n",
      "1.0107583\n",
      "0.9952251\n",
      "0.9813602\n",
      "0.9691193\n",
      "0.95925325\n",
      "0.946977\n",
      "0.9368026\n",
      "0.9307227\n",
      "0.92108643\n",
      "0.91367877\n",
      "0.9050793\n",
      "0.894009\n"
     ]
    }
   ],
   "source": [
    "init = tf.global_variables_initializer() # 初始化所有变量（注：只要使用变量的，都需要进行初始化）\n",
    "sess = tf.Session()\n",
    "sess.run(init)\n",
    "for i in range(1000):# 训练1000次\n",
    "    sess.run(train_step, feed_dict = {xs:x_data, ys:y_data})\n",
    "    if i % 50 == 0:# 每50次打印一次损失值\n",
    "        print(sess.run(loss,feed_dict = {xs:x_data, ys:y_data}))"
   ]
  }
 ],
 "metadata": {
  "kernelspec": {
   "display_name": "Python 3",
   "language": "python",
   "name": "python3"
  },
  "language_info": {
   "codemirror_mode": {
    "name": "ipython",
    "version": 3
   },
   "file_extension": ".py",
   "mimetype": "text/x-python",
   "name": "python",
   "nbconvert_exporter": "python",
   "pygments_lexer": "ipython3",
   "version": "3.5.5"
  }
 },
 "nbformat": 4,
 "nbformat_minor": 2
}
