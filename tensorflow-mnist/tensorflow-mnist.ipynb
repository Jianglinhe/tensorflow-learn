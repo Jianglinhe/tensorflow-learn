{
 "cells": [
  {
   "cell_type": "code",
   "execution_count": 1,
   "metadata": {},
   "outputs": [],
   "source": [
    "import tensorflow as tf\n",
    "import numpy as np\n",
    "from tensorflow.examples.tutorials.mnist import input_data"
   ]
  },
  {
   "cell_type": "markdown",
   "metadata": {},
   "source": [
    "## 定义输入数据，并预处理数据"
   ]
  },
  {
   "cell_type": "code",
   "execution_count": 2,
   "metadata": {},
   "outputs": [
    {
     "name": "stdout",
     "output_type": "stream",
     "text": [
      "Extracting MNIST_data/train-images-idx3-ubyte.gz\n",
      "Extracting MNIST_data/train-labels-idx1-ubyte.gz\n",
      "Extracting MNIST_data/t10k-images-idx3-ubyte.gz\n",
      "Extracting MNIST_data/t10k-labels-idx1-ubyte.gz\n"
     ]
    }
   ],
   "source": [
    "mnist = input_data.read_data_sets(\"MNIST_data/\",one_hot=True)"
   ]
  },
  {
   "cell_type": "code",
   "execution_count": 3,
   "metadata": {},
   "outputs": [],
   "source": [
    "tr_x,tr_y,te_x,te_y = mnist.train.images,mnist.train.labels,mnist.test.images,mnist.test.labels"
   ]
  },
  {
   "cell_type": "code",
   "execution_count": 4,
   "metadata": {},
   "outputs": [],
   "source": [
    "tr_x = tr_x.reshape(-1,28,28,1) # 28*28*1 imput img\n",
    "te_x = te_x.reshape(-1,28,28,1)"
   ]
  },
  {
   "cell_type": "code",
   "execution_count": 5,
   "metadata": {},
   "outputs": [],
   "source": [
    "X = tf.placeholder(\"float\",[None,28,28,1])\n",
    "Y = tf.placeholder(\"float\",[None,10])"
   ]
  },
  {
   "cell_type": "markdown",
   "metadata": {},
   "source": [
    "## 初始化权重与定义网络结构"
   ]
  },
  {
   "cell_type": "code",
   "execution_count": 6,
   "metadata": {},
   "outputs": [],
   "source": [
    "def init_weights(shape):\n",
    "    return tf.Variable(tf.random_normal(shape,stddev=0.01))"
   ]
  },
  {
   "cell_type": "code",
   "execution_count": 7,
   "metadata": {},
   "outputs": [],
   "source": [
    "w = init_weights([3,3,1,32])\n",
    "w2 = init_weights([3,3,32,64])\n",
    "w3 = init_weights([3,3,64,128])\n",
    "w4 = init_weights([128*4*4,625])\n",
    "w_o = init_weights([625,10])"
   ]
  },
  {
   "cell_type": "code",
   "execution_count": 8,
   "metadata": {},
   "outputs": [],
   "source": [
    "def model(X,w,w2,w3,w4,w_o,p_keep_conv,p_keep_hidden):\n",
    "    l1a = tf.nn.relu(tf.nn.conv2d(X,w,strides=[1,1,1,1],padding='SAME'))\n",
    "    l1 = tf.nn.max_pool(l1a,ksize=[1,2,2,1],strides=[1,2,2,1],padding='SAME')\n",
    "    l1 = tf.nn.dropout(l1,p_keep_conv)\n",
    "    \n",
    "    l2a = tf.nn.relu(tf.nn.conv2d(l1,w2,strides=[1,1,1,1],padding='SAME'))\n",
    "    l2 = tf.nn.max_pool(l2a,ksize=[1,2,2,1],strides=[1,2,2,1],padding='SAME')\n",
    "    l2 = tf.nn.dropout(l2,p_keep_conv)\n",
    "    \n",
    "    l3a = tf.nn.relu(tf.nn.conv2d(l2,w3,strides=[1,1,1,1],padding='SAME'))\n",
    "    l3 = tf.nn.max_pool(l3a,ksize=[1,2,2,1],strides=[1,2,2,1],padding='SAME')\n",
    "    l3 = tf.reshape(l3,[-1,w4.get_shape().as_list()[0]])\n",
    "    l3 = tf.nn.dropout(l3,p_keep_conv)\n",
    "    \n",
    "    l4 = tf.nn.relu(tf.matmul(l3,w4))\n",
    "    l4 = tf.nn.dropout(l4,p_keep_hidden)\n",
    "    \n",
    "    pyx = tf.matmul(l4,w_o)\n",
    "    \n",
    "    return pyx"
   ]
  },
  {
   "cell_type": "code",
   "execution_count": 9,
   "metadata": {},
   "outputs": [],
   "source": [
    "p_keep_conv = tf.placeholder(\"float\")\n",
    "p_keep_hidden = tf.placeholder(\"float\")\n",
    "py_x = model(X,w,w2,w3,w4,w_o,p_keep_conv,p_keep_hidden)"
   ]
  },
  {
   "cell_type": "code",
   "execution_count": 10,
   "metadata": {},
   "outputs": [
    {
     "name": "stdout",
     "output_type": "stream",
     "text": [
      "WARNING:tensorflow:From <ipython-input-10-c36f4a5ccb19>:1: softmax_cross_entropy_with_logits (from tensorflow.python.ops.nn_ops) is deprecated and will be removed in a future version.\n",
      "Instructions for updating:\n",
      "\n",
      "Future major versions of TensorFlow will allow gradients to flow\n",
      "into the labels input on backprop by default.\n",
      "\n",
      "See tf.nn.softmax_cross_entropy_with_logits_v2.\n",
      "\n"
     ]
    }
   ],
   "source": [
    "cost = tf.reduce_mean(tf.nn.softmax_cross_entropy_with_logits(logits=py_x,labels=Y))\n",
    "train_op = tf.train.RMSPropOptimizer(0.001,0.9).minimize(cost)\n",
    "predict_op = tf.argmax(py_x,1)"
   ]
  },
  {
   "cell_type": "markdown",
   "metadata": {},
   "source": [
    "## 训练模型与评估模型"
   ]
  },
  {
   "cell_type": "code",
   "execution_count": 11,
   "metadata": {},
   "outputs": [],
   "source": [
    "batch_size = 128\n",
    "test_size = 256"
   ]
  },
  {
   "cell_type": "code",
   "execution_count": 12,
   "metadata": {},
   "outputs": [
    {
     "name": "stdout",
     "output_type": "stream",
     "text": [
      "0 0.94921875\n",
      "1 0.99609375\n",
      "2 0.98046875\n",
      "3 0.99609375\n",
      "4 0.9921875\n",
      "5 0.98046875\n",
      "6 0.99609375\n",
      "7 0.9921875\n",
      "8 0.9921875\n",
      "9 0.98828125\n",
      "10 0.98828125\n",
      "11 0.984375\n",
      "12 0.98046875\n",
      "13 0.98828125\n",
      "14 0.98828125\n",
      "15 0.99609375\n",
      "16 0.9921875\n",
      "17 0.98828125\n",
      "18 0.98828125\n",
      "19 0.98828125\n",
      "20 0.98046875\n",
      "21 0.99609375\n",
      "22 0.99609375\n",
      "23 1.0\n",
      "24 0.99609375\n",
      "25 0.99609375\n",
      "26 0.99609375\n",
      "27 0.99609375\n",
      "28 0.99609375\n",
      "29 0.99609375\n"
     ]
    }
   ],
   "source": [
    "with tf.Session() as sess:\n",
    "    with tf.device(\"/gpu:0\"):\n",
    "        tf.global_variables_initializer().run()\n",
    "        \n",
    "        for i in range(30):\n",
    "            training_batch = zip(range(0,len(tr_x),batch_size),range(batch_size,len(tr_x)+1,batch_size))\n",
    "            for start,end in training_batch:\n",
    "                sess.run(train_op,feed_dict={X:tr_x[start:end],Y:tr_y[start:end],p_keep_conv:0.8,p_keep_hidden:0.5})\n",
    "            \n",
    "            test_indices = np.arange(len(te_x))\n",
    "            np.random.shuffle(test_indices)\n",
    "            test_indices = test_indices[0:test_size]\n",
    "            \n",
    "            print(i,np.mean(np.argmax(te_y[test_indices],axis=1) == \n",
    "                            sess.run(predict_op,feed_dict={X:te_x[test_indices],p_keep_conv:1.0,p_keep_hidden:1.0})))\n",
    "            "
   ]
  }
 ],
 "metadata": {
  "kernelspec": {
   "display_name": "Python 3",
   "language": "python",
   "name": "python3"
  },
  "language_info": {
   "codemirror_mode": {
    "name": "ipython",
    "version": 3
   },
   "file_extension": ".py",
   "mimetype": "text/x-python",
   "name": "python",
   "nbconvert_exporter": "python",
   "pygments_lexer": "ipython3",
   "version": "3.5.5"
  },
  "toc": {
   "base_numbering": 1,
   "nav_menu": {},
   "number_sections": true,
   "sideBar": true,
   "skip_h1_title": false,
   "title_cell": "Table of Contents",
   "title_sidebar": "Contents",
   "toc_cell": false,
   "toc_position": {},
   "toc_section_display": true,
   "toc_window_display": false
  }
 },
 "nbformat": 4,
 "nbformat_minor": 2
}
